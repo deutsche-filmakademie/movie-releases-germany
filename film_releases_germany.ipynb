{
 "cells": [
  {
   "cell_type": "markdown",
   "metadata": {},
   "source": [
    "# WEBSCRAPING MOVIE RELEASE DATES IN GERMANY"
   ]
  },
  {
   "cell_type": "markdown",
   "metadata": {},
   "source": [
    "### IMPORT LIBRARIES"
   ]
  },
  {
   "cell_type": "code",
   "execution_count": 2,
   "metadata": {},
   "outputs": [],
   "source": [
    "\n",
    "from bs4 import BeautifulSoup\n",
    "import requests\n",
    "import pandas as pd\n",
    "from pprint import pprint\n",
    "from lxml import html\n",
    "from lxml.html import fromstring\n",
    "import urllib.request\n",
    "from urllib.request import urlopen\n",
    "import random\n",
    "import re\n",
    "import time\n",
    "import subprocess\n",
    "from youtube_search import YoutubeSearch\n",
    "#import scrapy\n"
   ]
  },
  {
   "cell_type": "markdown",
   "metadata": {},
   "source": [
    "### SCRAPING TARGET"
   ]
  },
  {
   "cell_type": "code",
   "execution_count": 3,
   "metadata": {},
   "outputs": [],
   "source": [
    "#URL KINO-ZEIT.DE CINEMA PROGRAM\n",
    "url='https://www.kino-zeit.de/filme/filmstarts/aktuell'"
   ]
  },
  {
   "cell_type": "markdown",
   "metadata": {},
   "source": [
    "### SETTING SCOPE\n",
    "In Germany theatrical releases are typically on Thursdays.\n",
    "Setting 'weeks' to 1 will return last Thursdays theatrical releases.\n",
    "Setting 'weeks' to 2 will return last Thursdays and upcoming Thursday's theatrical releases."
   ]
  },
  {
   "cell_type": "code",
   "execution_count": 4,
   "metadata": {},
   "outputs": [
    {
     "name": "stdout",
     "output_type": "stream",
     "text": [
      "How many upcoming weeks would you like to scrape at kino-zeit.de\n",
      "---\n",
      "1\n"
     ]
    }
   ],
   "source": [
    "#CHOOSING NUMBER OF UPCOMING WEEKS TO SCRAPE\n",
    "print('How many upcoming weeks would you like to scrape at kino-zeit.de\\n---')\n",
    "weeks=int(input())"
   ]
  },
  {
   "cell_type": "markdown",
   "metadata": {},
   "source": [
    "### FUNCTIONS"
   ]
  },
  {
   "cell_type": "code",
   "execution_count": 9,
   "metadata": {},
   "outputs": [],
   "source": [
    "#FUNCTION TO TURN URL INTO HTML\n",
    "def make_soup(url):\n",
    "    html=requests.get(url).content\n",
    "    return BeautifulSoup(html,'html.parser')\n",
    "\n",
    "#FUNCTION CREATING THE URL TO FLIP TO NEXT WEEKS PAGE\n",
    "def next_url(soup):\n",
    "    url=''.join([f'https://www.kino-zeit.de/filme/filmstarts/{i[\"href\"]}' for i in soup.find_all(\"a\",{\"class\": \"next btn btn-primary\"})])\n",
    "    return url\n",
    "\n",
    "#FUNCTION FLIPPING THROUGH THE WEEKLY OVERVIEWS\n",
    "#Picking film titles, start dates and the film's detail page\n",
    "def how_much_soup(url, weeks):\n",
    "    df_loop=pd.DataFrame(columns=['start','film','director','actor','link','image','distro','country','trailer'])\n",
    "    lst_start=[]\n",
    "    lst_film=[]\n",
    "    lst_link=[]\n",
    "\n",
    "    for x in range(weeks): #for the number of weeks we are browsing\n",
    "        \n",
    "        soup= make_soup(url)\n",
    "        lst_film.append([i.text for i in soup.find_all(['h3','a'],{'class': 'filmlink'})])\n",
    "        lst_start.append([i.text for i in soup.find_all('div',{'class':'col-md-2 infospalte-1'})])\n",
    "        lst_start=re.findall(r'\\d\\d.\\d\\d.\\d\\d\\d\\d', str(lst_start))\n",
    "        lst_link.append([f'https://www.kino-zeit.de{i[\"href\"]}' for i in soup.find_all([\"h3\",\"a\"],{\"class\": \"filmlink\"})])\n",
    "        url=next_url(soup) #calling the function for the url we flip to for the following week\n",
    "    \n",
    "    lst_film=[i for sublst in lst_film for i in sublst]\n",
    "    df_loop['film']=lst_film\n",
    "    df_loop['year']=df_loop['film'].str.findall('\\d\\d\\d\\d')\n",
    "    df_loop['start']=lst_start\n",
    "    lst_link= [i for sublst in lst_link for i in sublst]\n",
    "    df_loop['link']=lst_link\n",
    "    return (df_loop)\n",
    "\n",
    "#FUNCTION GETTING INFOR FORM FILM DETAIL PAGES\n",
    "def filmdetails(df, link):\n",
    "    #CREATING OVERVIEW\n",
    "    regie_list=[]\n",
    "    darsteller_list=[]\n",
    "    list_img_url=[]\n",
    "    list_verleih=[]\n",
    "    list_prodland=[]\n",
    "    \n",
    "    #BROWSING THE FILMS' INDIVIDUAL PAGES FOR FURTHER DETAILS \n",
    "    for i in link:\n",
    "        sub_page=make_soup(i)\n",
    "        regie=[i.text.replace('\\nRegie','').replace('\\n\\n','').split(',') for i in sub_page.find_all('div',{'class':'field field--name-field-regie field--type-entity-reference field--label-above'})]\n",
    "        regie_list.append(regie[0])\n",
    "        darsteller=[i.text.replace('\\nDarsteller','').split('\\n') for i in sub_page.find_all('div',{'class':'field field--name-field-hauptdarsteller field--type-entity-reference field--label-above'})]\n",
    "        darsteller_list.append(darsteller)\n",
    "        img_url=[i['data-big'].split('?') for i in sub_page.find_all('img',{'id':'headerbildbig'})]\n",
    "        list_img_url.append(i[0] for i in img_url)\n",
    "        verleih=[i.text.replace('\\nFilmverleih','').replace('\\n\\n','') for i in sub_page.find_all(['div','a'],{'class':'field field--name-field-distribution-film field--type-entity-reference field--label-above'})]\n",
    "        list_verleih.append(verleih)\n",
    "        prodland=[i.text.replace('\\nProduktionsland','').replace('\\n\\n','') for i in sub_page.find_all(['div','a'],{'class':'field field--name-field-produktionsland field--type-entity-reference field--label-above'})]\n",
    "        list_prodland.append(prodland)\n",
    "\n",
    "    #FILLING THE DATAFRAME WITH THOSE NEW DATA\n",
    "    df['director']=regie_list\n",
    "    df['actor']=darsteller_list\n",
    "    df['image']=list_img_url\n",
    "    df['distro']=list_verleih\n",
    "    df['country']=list_prodland\n",
    "        \n",
    "    #CLEAN ACTORS COLUMN\n",
    "    for i in range(len(df.actor)):\n",
    "        if len(df['actor'].loc[i])==2:\n",
    "            df['actor'].loc[i]=df['actor'].loc[i][0]\n",
    "            df['actor'].loc[i]=list(filter(lambda x: x, list(df['actor'].loc[i])))\n",
    "    \n",
    "    #TURN LISTS INTO STRINGS TO CLEAN THEM UP\n",
    "    for i in range(len(df)):\n",
    "        df['film']=df['film'].str.replace('\\(\\d\\d\\d\\d\\)','')\n",
    "        df['country'][i]=''.join(df['country'][i]).replace('\\n',', ')\n",
    "        df['director'][i]=', '.join(df['director'][i]).replace('\\n',', ')\n",
    "        df['actor'][i]=', '.join(df['actor'][i])\n",
    "        df['image'][i]=''.join(df['image'][i])\n",
    "        df['distro'][i]=''.join(df['distro'][i]).replace('\\n',', ')\n",
    "    return df\n",
    "\n",
    "###YOUTUBE TRAILER\n",
    "#FUNCTION SEARCHING YOUTUBE RETURNING A YOUTUBE LINK\n",
    "def youtube_link (film, director, distro):\n",
    "    results = YoutubeSearch(f'{film} {director} {distro} Trailer', max_results=1).to_dict() #returns a dictionar\n",
    "    if results ==[]:\n",
    "        return('couldnt find youtube trailer')\n",
    "    else:\n",
    "        suffix = results[0]['url_suffix']\n",
    "        youtube_link= f'www.youtube.com{suffix}'\n",
    "        return(youtube_link)"
   ]
  },
  {
   "cell_type": "markdown",
   "metadata": {},
   "source": [
    "# START PROGRAM"
   ]
  },
  {
   "cell_type": "code",
   "execution_count": 10,
   "metadata": {},
   "outputs": [],
   "source": [
    "#STARTIN PROGRAM\n",
    "df=how_much_soup(url, weeks)\n",
    "df=filmdetails(df, df['link'])\n",
    "   \n",
    "# CALL FUNCTION FOR YOUTUBE TRAILER\n",
    "df['trailer']='-'\n",
    "for i in range(len(df)):\n",
    "    df['trailer'].loc[i] = youtube_link(df['film'][i], df['director'][i],df['distro'][i])"
   ]
  },
  {
   "cell_type": "markdown",
   "metadata": {},
   "source": [
    "## EXPORT EXCEL + CSV  WITH TIMESTAMP"
   ]
  },
  {
   "cell_type": "code",
   "execution_count": 36,
   "metadata": {},
   "outputs": [],
   "source": [
    "timestr = time.strftime(\"%Y%m%d\")\n",
    "df.to_csv(f'exported_files/Filmstarts_{timestr}.csv')\n",
    "df.to_excel(f'exported_files/Filmstarts_{timestr}.xlsx')"
   ]
  },
  {
   "cell_type": "markdown",
   "metadata": {},
   "source": [
    "### RINGS BELL WHEN SCRIPT FINISHED"
   ]
  },
  {
   "cell_type": "code",
   "execution_count": 8,
   "metadata": {},
   "outputs": [],
   "source": [
    "#RINGS THE BELL WHEN SCRIPT IS DONE\n",
    "audio_file = \"service-bell.mp3\"\n",
    "return_code = subprocess.call([\"afplay\", audio_file])"
   ]
  },
  {
   "cell_type": "code",
   "execution_count": 12,
   "metadata": {},
   "outputs": [
    {
     "data": {
      "text/html": [
       "<div>\n",
       "<style scoped>\n",
       "    .dataframe tbody tr th:only-of-type {\n",
       "        vertical-align: middle;\n",
       "    }\n",
       "\n",
       "    .dataframe tbody tr th {\n",
       "        vertical-align: top;\n",
       "    }\n",
       "\n",
       "    .dataframe thead th {\n",
       "        text-align: right;\n",
       "    }\n",
       "</style>\n",
       "<table border=\"1\" class=\"dataframe\">\n",
       "  <thead>\n",
       "    <tr style=\"text-align: right;\">\n",
       "      <th></th>\n",
       "      <th>start</th>\n",
       "      <th>film</th>\n",
       "      <th>director</th>\n",
       "      <th>actor</th>\n",
       "      <th>link</th>\n",
       "      <th>image</th>\n",
       "      <th>distro</th>\n",
       "      <th>country</th>\n",
       "      <th>trailer</th>\n",
       "      <th>year</th>\n",
       "    </tr>\n",
       "  </thead>\n",
       "  <tbody>\n",
       "    <tr>\n",
       "      <th>0</th>\n",
       "      <td>15.10.2020</td>\n",
       "      <td>Astronaut</td>\n",
       "      <td>Shelagh McLeod</td>\n",
       "      <td>Richard Dreyfuss, Lyriq Bent, Krista Bridges, ...</td>\n",
       "      <td>https://www.kino-zeit.de/node/50228</td>\n",
       "      <td>https://www.kino-zeit.de/sites/default/files/s...</td>\n",
       "      <td>JETS Filmverleih &amp; Vertrieb</td>\n",
       "      <td>Kanada</td>\n",
       "      <td>www.youtube.com/watch?v=vLqK4_AWmro</td>\n",
       "      <td>[2019]</td>\n",
       "    </tr>\n",
       "    <tr>\n",
       "      <th>1</th>\n",
       "      <td>15.10.2020</td>\n",
       "      <td>Bruno</td>\n",
       "      <td>Karl Golden</td>\n",
       "      <td>Diarmaid Murtagh, Woody Norman, Seun Shote, Sc...</td>\n",
       "      <td>https://www.kino-zeit.de/node/48854</td>\n",
       "      <td>https://www.kino-zeit.de/sites/default/files/s...</td>\n",
       "      <td>Filmperlen</td>\n",
       "      <td>Großbritannien</td>\n",
       "      <td>www.youtube.com/watch?v=HnPj7LtDAhA</td>\n",
       "      <td>[2019]</td>\n",
       "    </tr>\n",
       "    <tr>\n",
       "      <th>2</th>\n",
       "      <td>15.10.2020</td>\n",
       "      <td>Der Bär in mir</td>\n",
       "      <td>Roman Droux</td>\n",
       "      <td></td>\n",
       "      <td>https://www.kino-zeit.de/node/50292</td>\n",
       "      <td>https://www.kino-zeit.de/sites/default/files/s...</td>\n",
       "      <td>MFA + Filmdistribution</td>\n",
       "      <td>Schweiz</td>\n",
       "      <td>www.youtube.com/watch?v=JYAGKtI94eI</td>\n",
       "      <td>[2019]</td>\n",
       "    </tr>\n",
       "    <tr>\n",
       "      <th>3</th>\n",
       "      <td>15.10.2020</td>\n",
       "      <td>Der geheime Garten</td>\n",
       "      <td>Marc Munden</td>\n",
       "      <td>Colin Firth, Maeve Dermody, Julie Walters, Dix...</td>\n",
       "      <td>https://www.kino-zeit.de/node/47584</td>\n",
       "      <td>https://www.kino-zeit.de/sites/default/files/s...</td>\n",
       "      <td>STUDIOCANAL GmbH Filmverleih</td>\n",
       "      <td>Großbritannien, Frankreich</td>\n",
       "      <td>www.youtube.com/watch?v=eEyPvZxC5Mk</td>\n",
       "      <td>[2020]</td>\n",
       "    </tr>\n",
       "    <tr>\n",
       "      <th>4</th>\n",
       "      <td>18.10.2020</td>\n",
       "      <td>Goodbye, America</td>\n",
       "      <td>Sarik Andreasyan</td>\n",
       "      <td>Lyanka Gryu, Nadezhda Mikhalkova, Vladimir Yag...</td>\n",
       "      <td>https://www.kino-zeit.de/node/50874</td>\n",
       "      <td>https://www.kino-zeit.de/sites/default/files/s...</td>\n",
       "      <td>Kinostar Filmverleih</td>\n",
       "      <td>Russland</td>\n",
       "      <td>www.youtube.com/watch?v=83XgomEylq0</td>\n",
       "      <td>[2020]</td>\n",
       "    </tr>\n",
       "  </tbody>\n",
       "</table>\n",
       "</div>"
      ],
      "text/plain": [
       "        start                 film          director  \\\n",
       "0  15.10.2020           Astronaut     Shelagh McLeod   \n",
       "1  15.10.2020               Bruno        Karl Golden   \n",
       "2  15.10.2020      Der Bär in mir        Roman Droux   \n",
       "3  15.10.2020  Der geheime Garten        Marc Munden   \n",
       "4  18.10.2020    Goodbye, America   Sarik Andreasyan   \n",
       "\n",
       "                                               actor  \\\n",
       "0  Richard Dreyfuss, Lyriq Bent, Krista Bridges, ...   \n",
       "1  Diarmaid Murtagh, Woody Norman, Seun Shote, Sc...   \n",
       "2                                                      \n",
       "3  Colin Firth, Maeve Dermody, Julie Walters, Dix...   \n",
       "4  Lyanka Gryu, Nadezhda Mikhalkova, Vladimir Yag...   \n",
       "\n",
       "                                  link  \\\n",
       "0  https://www.kino-zeit.de/node/50228   \n",
       "1  https://www.kino-zeit.de/node/48854   \n",
       "2  https://www.kino-zeit.de/node/50292   \n",
       "3  https://www.kino-zeit.de/node/47584   \n",
       "4  https://www.kino-zeit.de/node/50874   \n",
       "\n",
       "                                               image  \\\n",
       "0  https://www.kino-zeit.de/sites/default/files/s...   \n",
       "1  https://www.kino-zeit.de/sites/default/files/s...   \n",
       "2  https://www.kino-zeit.de/sites/default/files/s...   \n",
       "3  https://www.kino-zeit.de/sites/default/files/s...   \n",
       "4  https://www.kino-zeit.de/sites/default/files/s...   \n",
       "\n",
       "                         distro                     country  \\\n",
       "0   JETS Filmverleih & Vertrieb                      Kanada   \n",
       "1                    Filmperlen              Großbritannien   \n",
       "2        MFA + Filmdistribution                     Schweiz   \n",
       "3  STUDIOCANAL GmbH Filmverleih  Großbritannien, Frankreich   \n",
       "4          Kinostar Filmverleih                    Russland   \n",
       "\n",
       "                               trailer    year  \n",
       "0  www.youtube.com/watch?v=vLqK4_AWmro  [2019]  \n",
       "1  www.youtube.com/watch?v=HnPj7LtDAhA  [2019]  \n",
       "2  www.youtube.com/watch?v=JYAGKtI94eI  [2019]  \n",
       "3  www.youtube.com/watch?v=eEyPvZxC5Mk  [2020]  \n",
       "4  www.youtube.com/watch?v=83XgomEylq0  [2020]  "
      ]
     },
     "execution_count": 12,
     "metadata": {},
     "output_type": "execute_result"
    }
   ],
   "source": [
    "df.head()"
   ]
  },
  {
   "cell_type": "markdown",
   "metadata": {},
   "source": [
    "### Option to have resulting Excel sent by email"
   ]
  },
  {
   "cell_type": "code",
   "execution_count": 40,
   "metadata": {},
   "outputs": [],
   "source": [
    "#more complex\n",
    "'''import os\n",
    "import smtplib\n",
    "from email.message import EmailMessage\n",
    "\n",
    "email_address=os.environ.get('email_user')\n",
    "email_password=os.environ.get('email_pass')\n",
    "smtp_ssl_host=DFA_mailserver\n",
    "smtp_ssl_port = 465\n",
    "\n",
    "msg= EmailMessage()\n",
    "msg['Subject']= 'Filmstarts sind exportiert!'\n",
    "msg['From']=email_address\n",
    "msg['To']=''\n",
    "msg.set_content('Hallo, hallo, \\n\\nDas Excel mit den aktuellen Filmstarts ist anbei.\\n\\nschöne Grüße!')\n",
    "\n",
    "with open(f'exported_files/Filmstarts_{timestr}.xlsx', 'rb') as attachment:\n",
    "    file=attachment.read()\n",
    "\n",
    "msg.add_attachment(file,maintype='Excel',subtype='xlsx', filename=f'Filmstarts_{timestr}.xlsx')\n",
    "\n",
    "with smtplib.SMTP_SSL(smtp_ssl_host, smtp_ssl_port) as server:\n",
    "    server.login(email_address, email_password)\n",
    "    server.send_message(msg)\n",
    "    server.quit()'''"
   ]
  }
 ],
 "metadata": {
  "kernelspec": {
   "display_name": "Python 3",
   "language": "python",
   "name": "python3"
  },
  "language_info": {
   "codemirror_mode": {
    "name": "ipython",
    "version": 3
   },
   "file_extension": ".py",
   "mimetype": "text/x-python",
   "name": "python",
   "nbconvert_exporter": "python",
   "pygments_lexer": "ipython3",
   "version": "3.8.5"
  }
 },
 "nbformat": 4,
 "nbformat_minor": 4
}
